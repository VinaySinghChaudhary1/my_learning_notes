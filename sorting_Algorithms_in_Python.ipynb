{
  "nbformat": 4,
  "nbformat_minor": 0,
  "metadata": {
    "colab": {
      "provenance": [],
      "toc_visible": true
    },
    "kernelspec": {
      "name": "python3",
      "display_name": "Python 3"
    },
    "language_info": {
      "name": "python"
    }
  },
  "cells": [
    {
      "cell_type": "markdown",
      "source": [
        "##  All common sorting Algorithms in Python?"
      ],
      "metadata": {
        "id": "twPX0Wm4wUXV"
      }
    },
    {
      "cell_type": "markdown",
      "source": [
        "1. Bubble Sort: Compares adjacent elements and swaps them if they are in the wrong order, repeating this process until the entire list is sorted.\n",
        "2. Selection Sort: Finds the minimum element in the unsorted portion of the list and swaps it with the leftmost unsorted element, gradually building a sorted portion from left to right.\n",
        "3. Insertion Sort: Builds the final sorted array one item at a time by repeatedly inserting a value into the already sorted portion of the list.\n",
        "4. Merge Sort: Divides the list into smaller sublists, recursively sorts them, and then merges the sublists back together to obtain the final sorted list.\n",
        "5. Quick Sort: Chooses a pivot element and partitions the list into two sublists, one with elements smaller than the pivot and one with elements larger than the pivot. It then recursively applies the same process to the sublists.\n",
        "6. Heap Sort: Builds a binary heap from the list and repeatedly extracts the maximum element from the heap, placing it at the end of the sorted portion.\n",
        "7. Counting Sort: Suitable for sorting integers with a known range, it counts the occurrences of each element and uses this information to determine their positions in the sorted output.\n",
        "8. Radix Sort: Sorts elements by grouping them by individual digits or by other significant digits, starting from the least significant digit and moving towards the most significant digit.\n",
        "9. Bucket Sort: Divides the input into several buckets, each representing a range of values. The elements are then distributed into the buckets and sorted individually, and the sorted buckets are concatenated to obtain the final sorted list.\n",
        "10. Tim Sort: A hybrid sorting algorithm derived from merge sort and insertion sort, designed to perform well on many kinds of real-world data.\n",
        "\n",
        "These are just a few examples of sorting algorithms commonly used in Python."
      ],
      "metadata": {
        "id": "fRn0mOepwcPy"
      }
    },
    {
      "cell_type": "markdown",
      "source": [
        "## Here are implementations of various sorting algorithms in Python:\n",
        "\n",
        "1. Bubble Sort:\n",
        "```python\n",
        "def bubble_sort(arr):\n",
        "    n = len(arr)\n",
        "    for i in range(n - 1):\n",
        "        for j in range(0, n - i - 1):\n",
        "            if arr[j] > arr[j + 1]:\n",
        "                arr[j], arr[j + 1] = arr[j + 1], arr[j]\n",
        "```\n",
        "\n",
        "2. Selection Sort:\n",
        "```python\n",
        "def selection_sort(arr):\n",
        "    n = len(arr)\n",
        "    for i in range(n):\n",
        "        min_idx = i\n",
        "        for j in range(i + 1, n):\n",
        "            if arr[j] < arr[min_idx]:\n",
        "                min_idx = j\n",
        "        arr[i], arr[min_idx] = arr[min_idx], arr[i]\n",
        "```\n",
        "\n",
        "3. Insertion Sort:\n",
        "```python\n",
        "def insertion_sort(arr):\n",
        "    for i in range(1, len(arr)):\n",
        "        key = arr[i]\n",
        "        j = i - 1\n",
        "        while j >= 0 and arr[j] > key:\n",
        "            arr[j + 1] = arr[j]\n",
        "            j -= 1\n",
        "        arr[j + 1] = key\n",
        "```\n",
        "\n",
        "4. Merge Sort:\n",
        "```python\n",
        "def merge_sort(arr):\n",
        "    if len(arr) > 1:\n",
        "        mid = len(arr) // 2\n",
        "        left_half = arr[:mid]\n",
        "        right_half = arr[mid:]\n",
        "\n",
        "        merge_sort(left_half)\n",
        "        merge_sort(right_half)\n",
        "\n",
        "        i = j = k = 0\n",
        "\n",
        "        while i < len(left_half) and j < len(right_half):\n",
        "            if left_half[i] < right_half[j]:\n",
        "                arr[k] = left_half[i]\n",
        "                i += 1\n",
        "            else:\n",
        "                arr[k] = right_half[j]\n",
        "                j += 1\n",
        "            k += 1\n",
        "\n",
        "        while i < len(left_half):\n",
        "            arr[k] = left_half[i]\n",
        "            i += 1\n",
        "            k += 1\n",
        "\n",
        "        while j < len(right_half):\n",
        "            arr[k] = right_half[j]\n",
        "            j += 1\n",
        "            k += 1\n",
        "```\n",
        "\n",
        "5. Quick Sort:\n",
        "```python\n",
        "def quick_sort(arr):\n",
        "    if len(arr) <= 1:\n",
        "        return arr\n",
        "    pivot = arr[len(arr) // 2]\n",
        "    left = [x for x in arr if x < pivot]\n",
        "    middle = [x for x in arr if x == pivot]\n",
        "    right = [x for x in arr if x > pivot]\n",
        "    return quick_sort(left) + middle + quick_sort(right)\n",
        "```\n",
        "\n",
        "6. Heap Sort:\n",
        "```python\n",
        "def heapify(arr, n, i):\n",
        "    largest = i\n",
        "    left = 2 * i + 1\n",
        "    right = 2 * i + 2\n",
        "\n",
        "    if left < n and arr[i] < arr[left]:\n",
        "        largest = left\n",
        "\n",
        "    if right < n and arr[largest] < arr[right]:\n",
        "        largest = right\n",
        "\n",
        "    if largest != i:\n",
        "        arr[i], arr[largest] = arr[largest], arr[i]\n",
        "        heapify(arr, n, largest)\n",
        "\n",
        "\n",
        "def heap_sort(arr):\n",
        "    n = len(arr)\n",
        "    for i in range(n // 2 - 1, -1, -1):\n",
        "        heapify(arr, n, i)\n",
        "    for i in range(n - 1, 0, -1):\n",
        "        arr[i], arr[0] = arr[0], arr[i]\n",
        "        heapify(arr, i, 0)\n",
        "```\n",
        "\n",
        "These are just a few examples of sorting algorithms implemented in Python. Each algorithm has its own approach and time complexity characteristics."
      ],
      "metadata": {
        "id": "v5mQGCXawsDu"
      }
    },
    {
      "cell_type": "markdown",
      "source": [
        "# List down most common libraries which we import in python programming. such as random, math, calendar etc."
      ],
      "metadata": {
        "id": "leuh5m1PxKGT"
      }
    },
    {
      "cell_type": "markdown",
      "source": [
        "Sure! Here are some commonly used libraries that are imported in Python programming:\n",
        "\n",
        "1. random: Library for generating random numbers and performing random selections.\n",
        "2. math: Library providing mathematical functions and operations.\n",
        "3. calendar: Library for working with dates, calendars, and scheduling.\n",
        "4. datetime: Library for manipulating dates and times.\n",
        "5. os: Library for interacting with the operating system, including file and directory operations.\n",
        "6. sys: Library for system-specific parameters and functions.\n",
        "7. time: Library for working with time-related functions and operations.\n",
        "8. csv: Library for reading and writing CSV files (Comma Separated Values).\n",
        "9. json: Library for working with JSON (JavaScript Object Notation) data.\n",
        "10. re: Library for regular expression matching and operations.\n",
        "11. urllib: Library for working with URLs, including making HTTP requests.\n",
        "12. requests: Library for making HTTP requests and handling responses.\n",
        "13. sqlite3: Library for working with SQLite databases.\n",
        "14. pandas: Data manipulation and analysis library, providing data structures and functions for working with structured data.\n",
        "15. numpy: Numerical computing library for arrays and matrices.\n",
        "16. matplotlib: Data visualization library for creating charts and plots.\n",
        "17. seaborn: Statistical data visualization library built on top of matplotlib.\n",
        "18. scikit-learn: Machine learning library with various algorithms and tools.\n",
        "19. tensorflow: Deep learning library for building and training neural networks.\n",
        "20. keras: High-level neural networks API, often used with TensorFlow.\n",
        "\n",
        "These are just a few examples, and there are many more libraries available in the Python ecosystem for various purposes and domains."
      ],
      "metadata": {
        "id": "XlRNymLPxWFz"
      }
    },
    {
      "cell_type": "markdown",
      "source": [
        "#some More"
      ],
      "metadata": {
        "id": "WVdtHXl1xeT7"
      }
    },
    {
      "cell_type": "markdown",
      "source": [
        "There are numerous libraries that are commonly imported in Python programming. Here is a list of some popular libraries:\n",
        "\n",
        "1. NumPy: Numerical computing library for arrays and matrices.\n",
        "2. Pandas: Data manipulation and analysis library.\n",
        "3. Matplotlib: Data visualization library for creating charts and plots.\n",
        "4. Scikit-learn: Machine learning library with various algorithms and tools.\n",
        "5. TensorFlow: Deep learning library for building and training neural networks.\n",
        "6. Keras: High-level neural networks API, often used with TensorFlow.\n",
        "7. PyTorch: Deep learning library known for its dynamic computation graphs.\n",
        "8. OpenCV: Computer vision library for image and video processing.\n",
        "9. Requests: Library for making HTTP requests and handling responses.\n",
        "10. Beautiful Soup: Web scraping library for extracting data from HTML and XML documents.\n",
        "11. SciPy: Scientific computing library with modules for optimization, interpolation, signal processing, etc.\n",
        "12. NLTK: Natural Language Toolkit for text processing and analysis.\n",
        "13. Flask: Web framework for building web applications and APIs.\n",
        "14. Django: High-level web framework for developing full-featured web applications.\n",
        "15. SQLAlchemy: Object-relational mapping library for working with databases.\n",
        "16. pytest: Testing framework for writing and running tests.\n",
        "17. Celery: Distributed task queue for asynchronous processing.\n",
        "18. Pillow: Image processing library for working with images in various formats.\n",
        "19. NetworkX: Library for the study of complex networks and graphs.\n",
        "20. pytz: Library for working with time zones.\n",
        "\n",
        "This is not an exhaustive list, and there are many more libraries available in the Python ecosystem for specific purposes and domains."
      ],
      "metadata": {
        "id": "PM1AvGHoxhuT"
      }
    }
  ]
}