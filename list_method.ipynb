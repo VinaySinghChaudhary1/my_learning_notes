{
  "nbformat": 4,
  "nbformat_minor": 0,
  "metadata": {
    "colab": {
      "provenance": []
    },
    "kernelspec": {
      "name": "python3",
      "display_name": "Python 3"
    },
    "language_info": {
      "name": "python"
    }
  },
  "cells": [
    {
      "cell_type": "markdown",
      "source": [
        "## Write down example a code of below each list method:\n",
        "\n",
        "Python has a set of built-in methods that you can use on lists."
      ],
      "metadata": {
        "id": "CWgunhPsi21h"
      }
    },
    {
      "cell_type": "markdown",
      "source": [
        "\n",
        "1. append(): Adds an element at the end of the list\n",
        "```python\n",
        "my_list = [1, 2, 3]\n",
        "my_list.append(4)\n",
        "print(my_list)  # Output: [1, 2, 3, 4]\n",
        "```\n",
        "\n",
        "2. clear(): Removes all the elements from the list\n",
        "```python\n",
        "my_list = [1, 2, 3, 4]\n",
        "my_list.clear()\n",
        "print(my_list)  # Output: []\n",
        "```\n",
        "\n",
        "3. copy(): Returns a copy of the list\n",
        "```python\n",
        "my_list = [1, 2, 3]\n",
        "copy_list = my_list.copy()\n",
        "print(copy_list)  # Output: [1, 2, 3]\n",
        "```\n",
        "\n",
        "4. count(): Returns the number of elements with the specified value\n",
        "```python\n",
        "my_list = [1, 2, 2, 3, 2, 4]\n",
        "count = my_list.count(2)\n",
        "print(count)  # Output: 3\n",
        "```\n",
        "\n",
        "5. extend(): Adds the elements of a list (or any iterable) to the end of the current list\n",
        "```python\n",
        "my_list = [1, 2, 3]\n",
        "my_list.extend([4, 5])\n",
        "print(my_list)  # Output: [1, 2, 3, 4, 5]\n",
        "```\n",
        "\n",
        "6. index(): Returns the index of the first element with the specified value\n",
        "```python\n",
        "my_list = [1, 2, 3, 2, 4]\n",
        "index = my_list.index(2)\n",
        "print(index)  # Output: 1\n",
        "```\n",
        "\n",
        "7. insert(): Adds an element at the specified position\n",
        "```python\n",
        "my_list = [1, 2, 3]\n",
        "my_list.insert(1, 4)\n",
        "print(my_list)  # Output: [1, 4, 2, 3]\n",
        "```\n",
        "\n",
        "8. pop(): Removes the element at the specified position\n",
        "```python\n",
        "my_list = [1, 2, 3]\n",
        "popped_element = my_list.pop(1)\n",
        "print(popped_element)  # Output: 2\n",
        "print(my_list)  # Output: [1, 3]\n",
        "```\n",
        "\n",
        "9. remove(): Removes the item with the specified value\n",
        "```python\n",
        "my_list = [1, 2, 3, 2, 4]\n",
        "my_list.remove(2)\n",
        "print(my_list)  # Output: [1, 3, 2, 4]\n",
        "```\n",
        "\n",
        "10. reverse(): Reverses the order of the list\n",
        "```python\n",
        "my_list = [1, 2, 3, 4]\n",
        "my_list.reverse()\n",
        "print(my_list)  # Output: [4, 3, 2, 1]\n",
        "```\n",
        "\n",
        "11. sort(): Sorts the list\n",
        "```python\n",
        "my_list = [4, 2, 1, 3]\n",
        "my_list.sort()\n",
        "print(my_list)  # Output: [1, 2, 3, 4]\n",
        "```\n",
        "\n",
        "Note: These methods are specific to lists and are not applicable to strings."
      ],
      "metadata": {
        "id": "MxF8fgNWjMvB"
      }
    },
    {
      "cell_type": "markdown",
      "source": [],
      "metadata": {
        "id": "WfrWhdnUjU3c"
      }
    }
  ]
}